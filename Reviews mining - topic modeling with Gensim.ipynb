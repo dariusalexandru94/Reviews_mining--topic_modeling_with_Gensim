{
 "cells": [
  {
   "cell_type": "markdown",
   "id": "49cfca0c",
   "metadata": {},
   "source": [
    "# Reviews mining -  topic modeling\n",
    "*M.S. student Darius Alexandru Cocirta*"
   ]
  },
  {
   "cell_type": "markdown",
   "id": "564f480e",
   "metadata": {},
   "source": [
    "![alternatvie text](https://cdn.searchenginejournal.com/wp-content/uploads/2021/04/google-product-reviews-update-606f3672ab023.jpg)"
   ]
  },
  {
   "cell_type": "markdown",
   "id": "c412d063",
   "metadata": {},
   "source": [
    "## Introduction"
   ]
  },
  {
   "cell_type": "markdown",
   "id": "ec95d148",
   "metadata": {},
   "source": [
    "A restaurant contacts you to help them improve their business. They provide you with a customer reviews\n",
    "dataset and ask you to analyse **what customers think and which services can be made better**."
   ]
  },
  {
   "cell_type": "markdown",
   "id": "77469cd2",
   "metadata": {},
   "source": [
    "## Data"
   ]
  },
  {
   "cell_type": "markdown",
   "id": "3f063512",
   "metadata": {},
   "source": [
    "The dataset consists of 1000 textual review (of a restaurant) and its positive or negative label."
   ]
  },
  {
   "cell_type": "markdown",
   "id": "93945cf6",
   "metadata": {},
   "source": [
    "## Assignment"
   ]
  },
  {
   "cell_type": "markdown",
   "id": "7f654416",
   "metadata": {},
   "source": [
    "The main task of the project is to apply different text mining methods to investigate what customers like and\n",
    "dislike about the restaurant. The report should contain methodological details and results & suggestions on what is good or can be improved. The implementation can be done in both R and Python and all of the codes should be saved so you can\n",
    "provide them if needed."
   ]
  },
  {
   "cell_type": "markdown",
   "id": "f55884b4",
   "metadata": {},
   "source": [
    "## Description of analysis"
   ]
  },
  {
   "cell_type": "markdown",
   "id": "33dcf20f",
   "metadata": {},
   "source": [
    "The purpose of this project is to use **topic modeling** to accurately reveal the true opinions of clients. \n",
    "\n",
    "For this, I first started with a **preliminary analysis** for a better understanding of the data.\n",
    "\n",
    "Further, I used the **VADER model to reveal the sentiment score of reviews** for a better data normalization designed to serve the purpose of a better topic modeling analysis. By having labeled data, helped me in counteracting the model's deficiencies, caused by the ambiguity of human language. The ambiguity of human language is the biggest challenge of text mining.\n",
    "\n",
    "In the last step of my analysis, using topic modeling, I have revealed the main topics of discussion of the customers regarding the services of the restaurant and I proposed things to maintain or to improve."
   ]
  },
  {
   "cell_type": "markdown",
   "id": "cd7b7063",
   "metadata": {},
   "source": [
    "## Data quality assessment"
   ]
  },
  {
   "cell_type": "code",
   "execution_count": 1,
   "id": "7d6393a8",
   "metadata": {},
   "outputs": [],
   "source": [
    "import numpy as np\n",
    "import pandas as pd\n",
    "import matplotlib.pyplot as plt\n",
    "import seaborn as sns\n",
    "%matplotlib inline\n",
    "\n",
    "import re\n",
    "import nltk\n",
    "#nltk.download('stopwords')\n",
    "#nltk.download('vader_lexicon')\n",
    "from nltk.corpus import stopwords\n",
    "from nltk.stem import WordNetLemmatizer\n",
    "import requests\n",
    "\n",
    "#Gensim\n",
    "import gensim\n",
    "import gensim.corpora as corpora\n",
    "from gensim.utils import simple_preprocess\n",
    "from gensim.models import CoherenceModel\n",
    "from gensim.models import TfidfModel\n",
    "\n",
    "#spacy\n",
    "import spacy\n",
    "\n",
    "#pyLDSvis\n",
    "import pyLDAvis.gensim_models\n",
    "\n",
    "import warnings\n",
    "warnings.filterwarnings('ignore')\n",
    "warnings.simplefilter('ignore')"
   ]
  },
  {
   "cell_type": "code",
   "execution_count": 2,
   "id": "3eea90dd",
   "metadata": {},
   "outputs": [],
   "source": [
    "mydata = pd.read_csv(r'C:\\Users\\Asus\\Desktop\\dis\\p_reviews\\Restaurant_Reviews.tsv', sep='\\t')"
   ]
  },
  {
   "cell_type": "code",
   "execution_count": 3,
   "id": "3c971ebc",
   "metadata": {},
   "outputs": [
    {
     "data": {
      "text/plain": [
       "(1000, 2)"
      ]
     },
     "execution_count": 3,
     "metadata": {},
     "output_type": "execute_result"
    }
   ],
   "source": [
    "mydata.shape"
   ]
  },
  {
   "cell_type": "code",
   "execution_count": 4,
   "id": "3ea71077",
   "metadata": {},
   "outputs": [
    {
     "data": {
      "text/html": [
       "<div>\n",
       "<style scoped>\n",
       "    .dataframe tbody tr th:only-of-type {\n",
       "        vertical-align: middle;\n",
       "    }\n",
       "\n",
       "    .dataframe tbody tr th {\n",
       "        vertical-align: top;\n",
       "    }\n",
       "\n",
       "    .dataframe thead th {\n",
       "        text-align: right;\n",
       "    }\n",
       "</style>\n",
       "<table border=\"1\" class=\"dataframe\">\n",
       "  <thead>\n",
       "    <tr style=\"text-align: right;\">\n",
       "      <th></th>\n",
       "      <th>Review</th>\n",
       "      <th>Liked</th>\n",
       "    </tr>\n",
       "  </thead>\n",
       "  <tbody>\n",
       "    <tr>\n",
       "      <th>0</th>\n",
       "      <td>Wow... Loved this place.</td>\n",
       "      <td>1</td>\n",
       "    </tr>\n",
       "    <tr>\n",
       "      <th>1</th>\n",
       "      <td>Crust is not good.</td>\n",
       "      <td>0</td>\n",
       "    </tr>\n",
       "    <tr>\n",
       "      <th>2</th>\n",
       "      <td>Not tasty and the texture was just nasty.</td>\n",
       "      <td>0</td>\n",
       "    </tr>\n",
       "    <tr>\n",
       "      <th>3</th>\n",
       "      <td>Stopped by during the late May bank holiday of...</td>\n",
       "      <td>1</td>\n",
       "    </tr>\n",
       "    <tr>\n",
       "      <th>4</th>\n",
       "      <td>The selection on the menu was great and so wer...</td>\n",
       "      <td>1</td>\n",
       "    </tr>\n",
       "  </tbody>\n",
       "</table>\n",
       "</div>"
      ],
      "text/plain": [
       "                                              Review  Liked\n",
       "0                           Wow... Loved this place.      1\n",
       "1                                 Crust is not good.      0\n",
       "2          Not tasty and the texture was just nasty.      0\n",
       "3  Stopped by during the late May bank holiday of...      1\n",
       "4  The selection on the menu was great and so wer...      1"
      ]
     },
     "execution_count": 4,
     "metadata": {},
     "output_type": "execute_result"
    }
   ],
   "source": [
    "mydata.head()"
   ]
  },
  {
   "cell_type": "code",
   "execution_count": 5,
   "id": "6418dedf",
   "metadata": {},
   "outputs": [
    {
     "name": "stdout",
     "output_type": "stream",
     "text": [
      "<class 'pandas.core.frame.DataFrame'>\n",
      "RangeIndex: 1000 entries, 0 to 999\n",
      "Data columns (total 2 columns):\n",
      " #   Column  Non-Null Count  Dtype \n",
      "---  ------  --------------  ----- \n",
      " 0   Review  1000 non-null   object\n",
      " 1   Liked   1000 non-null   int64 \n",
      "dtypes: int64(1), object(1)\n",
      "memory usage: 15.8+ KB\n"
     ]
    }
   ],
   "source": [
    "mydata.info()"
   ]
  },
  {
   "cell_type": "markdown",
   "id": "08805302",
   "metadata": {},
   "source": [
    "### Creating  two datasets with positive and negative reviews separately"
   ]
  },
  {
   "cell_type": "code",
   "execution_count": 6,
   "id": "68b85be4",
   "metadata": {},
   "outputs": [
    {
     "data": {
      "text/html": [
       "<div>\n",
       "<style scoped>\n",
       "    .dataframe tbody tr th:only-of-type {\n",
       "        vertical-align: middle;\n",
       "    }\n",
       "\n",
       "    .dataframe tbody tr th {\n",
       "        vertical-align: top;\n",
       "    }\n",
       "\n",
       "    .dataframe thead th {\n",
       "        text-align: right;\n",
       "    }\n",
       "</style>\n",
       "<table border=\"1\" class=\"dataframe\">\n",
       "  <thead>\n",
       "    <tr style=\"text-align: right;\">\n",
       "      <th></th>\n",
       "      <th>Review</th>\n",
       "      <th>Liked</th>\n",
       "    </tr>\n",
       "  </thead>\n",
       "  <tbody>\n",
       "    <tr>\n",
       "      <th>0</th>\n",
       "      <td>Wow... Loved this place.</td>\n",
       "      <td>1</td>\n",
       "    </tr>\n",
       "    <tr>\n",
       "      <th>3</th>\n",
       "      <td>Stopped by during the late May bank holiday of...</td>\n",
       "      <td>1</td>\n",
       "    </tr>\n",
       "    <tr>\n",
       "      <th>4</th>\n",
       "      <td>The selection on the menu was great and so wer...</td>\n",
       "      <td>1</td>\n",
       "    </tr>\n",
       "  </tbody>\n",
       "</table>\n",
       "</div>"
      ],
      "text/plain": [
       "                                              Review  Liked\n",
       "0                           Wow... Loved this place.      1\n",
       "3  Stopped by during the late May bank holiday of...      1\n",
       "4  The selection on the menu was great and so wer...      1"
      ]
     },
     "execution_count": 6,
     "metadata": {},
     "output_type": "execute_result"
    }
   ],
   "source": [
    "positive = mydata[mydata['Liked'] == 1]\n",
    "mydata[mydata['Liked'] == 1].head(3)"
   ]
  },
  {
   "cell_type": "code",
   "execution_count": 7,
   "id": "486c05eb",
   "metadata": {},
   "outputs": [
    {
     "data": {
      "text/plain": [
       "(500, 2)"
      ]
     },
     "execution_count": 7,
     "metadata": {},
     "output_type": "execute_result"
    }
   ],
   "source": [
    "positive.shape"
   ]
  },
  {
   "cell_type": "code",
   "execution_count": 8,
   "id": "5d9a242a",
   "metadata": {},
   "outputs": [
    {
     "data": {
      "text/html": [
       "<div>\n",
       "<style scoped>\n",
       "    .dataframe tbody tr th:only-of-type {\n",
       "        vertical-align: middle;\n",
       "    }\n",
       "\n",
       "    .dataframe tbody tr th {\n",
       "        vertical-align: top;\n",
       "    }\n",
       "\n",
       "    .dataframe thead th {\n",
       "        text-align: right;\n",
       "    }\n",
       "</style>\n",
       "<table border=\"1\" class=\"dataframe\">\n",
       "  <thead>\n",
       "    <tr style=\"text-align: right;\">\n",
       "      <th></th>\n",
       "      <th>Review</th>\n",
       "      <th>Liked</th>\n",
       "    </tr>\n",
       "  </thead>\n",
       "  <tbody>\n",
       "    <tr>\n",
       "      <th>1</th>\n",
       "      <td>Crust is not good.</td>\n",
       "      <td>0</td>\n",
       "    </tr>\n",
       "    <tr>\n",
       "      <th>2</th>\n",
       "      <td>Not tasty and the texture was just nasty.</td>\n",
       "      <td>0</td>\n",
       "    </tr>\n",
       "    <tr>\n",
       "      <th>5</th>\n",
       "      <td>Now I am getting angry and I want my damn pho.</td>\n",
       "      <td>0</td>\n",
       "    </tr>\n",
       "  </tbody>\n",
       "</table>\n",
       "</div>"
      ],
      "text/plain": [
       "                                           Review  Liked\n",
       "1                              Crust is not good.      0\n",
       "2       Not tasty and the texture was just nasty.      0\n",
       "5  Now I am getting angry and I want my damn pho.      0"
      ]
     },
     "execution_count": 8,
     "metadata": {},
     "output_type": "execute_result"
    }
   ],
   "source": [
    "negative = mydata[mydata['Liked'] == 0]\n",
    "mydata[mydata['Liked'] == 0].head(3)"
   ]
  },
  {
   "cell_type": "code",
   "execution_count": 9,
   "id": "344ed531",
   "metadata": {},
   "outputs": [
    {
     "data": {
      "text/plain": [
       "(500, 2)"
      ]
     },
     "execution_count": 9,
     "metadata": {},
     "output_type": "execute_result"
    }
   ],
   "source": [
    "negative.shape"
   ]
  },
  {
   "cell_type": "markdown",
   "id": "cf96d12a",
   "metadata": {},
   "source": [
    "## Data pre processing"
   ]
  },
  {
   "cell_type": "markdown",
   "id": "9f72f536",
   "metadata": {},
   "source": [
    "In this step of my analysis I have created a function designed to be applied on every review in order to get a clean corpus of words, later used in the modeling part. I converted from upper to lower case, I replaced everything that is not a letter (digits too) with an \" \" empty space, I removed the stopwords using stopwords list from nltk.corpus but also, for getting better results on the modeling part, I also used another english stopwords list from the link below, a list consisting of ~1000 words, using *requests* library. I used lemmatization because I wanted to keep the original words for visualization reasons."
   ]
  },
  {
   "cell_type": "code",
   "execution_count": 10,
   "id": "dda6c93e",
   "metadata": {},
   "outputs": [],
   "source": [
    "def text_process(review):\n",
    "    review = re.sub('[^^a-zA-Z]', ' ', review) # repleace everything that is not a-zA-Z with ' ' from data[i] (numbers)\n",
    "    review = review.lower() # lower\n",
    "    review = [word for word in review.split() if word not in stopwords.words('english')] # remove stop words from nltk.corpus [x words]\n",
    "    # list of more than 1000 english stopwords; using requests to get the list\n",
    "    stopwords_list = requests.get(\"https://gist.githubusercontent.com/rg089/35e00abf8941d72d419224cfd5b5925d/raw/12d899b70156fd0041fa9778d657330b024b959c/stopwords.txt\").content\n",
    "    stopwords2 = set(stopwords_list.decode().splitlines())\n",
    "    review = [word for word in review if word.lower() not in stopwords2] # remove stopwards again but from second stopords list\n",
    "    lemmatizer = WordNetLemmatizer() # lemmatization\n",
    "    review = [lemmatizer.lemmatize(word) for word in review]\n",
    "    return(review)"
   ]
  },
  {
   "cell_type": "markdown",
   "id": "960f1d78",
   "metadata": {},
   "source": [
    "## Positive reviews - Negative reviews. Data transformation & preliminary analysis"
   ]
  },
  {
   "cell_type": "markdown",
   "id": "4a246a5c",
   "metadata": {},
   "source": [
    "### Applying pre processing function on reviews"
   ]
  },
  {
   "cell_type": "code",
   "execution_count": 11,
   "id": "ae70a29f",
   "metadata": {},
   "outputs": [],
   "source": [
    "# POSITIVE\n",
    "corpus_p = []\n",
    "for review in positive['Review'].iloc[0::]:\n",
    "    corpus_p.append(review)\n",
    "    \n",
    "korpus_p = []\n",
    "for chunk in corpus_p:\n",
    "    korpus_p.append(text_process(chunk))\n",
    "    \n",
    "merged_korpus_p = []\n",
    "\n",
    "for chunk in korpus_p:\n",
    "    for word in chunk:\n",
    "        merged_korpus_p.append(word)\n",
    "        \n",
    "        \n",
    "df_pos = pd.DataFrame(merged_korpus_p, columns=['words'])"
   ]
  },
  {
   "cell_type": "code",
   "execution_count": 12,
   "id": "facb4f86",
   "metadata": {},
   "outputs": [],
   "source": [
    "# NEGATIVE\n",
    "corpus_n = []\n",
    "for review in negative['Review'].iloc[0::]:\n",
    "    corpus_n.append(review)\n",
    "    \n",
    "korpus_n = []\n",
    "for chunk in corpus_n:\n",
    "    korpus_n.append(text_process(chunk))\n",
    "    \n",
    "merged_korpus_n = []\n",
    "\n",
    "for chunk in korpus_n:\n",
    "    for word in chunk:\n",
    "        merged_korpus_n.append(word)\n",
    "        \n",
    "        \n",
    "df_neg = pd.DataFrame(merged_korpus_n, columns=['words'])"
   ]
  },
  {
   "cell_type": "markdown",
   "id": "20405cc7",
   "metadata": {},
   "source": [
    "### Positive reviews corpus"
   ]
  },
  {
   "cell_type": "code",
   "execution_count": 13,
   "id": "2f249358",
   "metadata": {},
   "outputs": [
    {
     "data": {
      "text/plain": [
       "[['service', 'prompt'],\n",
       " ['cape', 'cod', 'ravoli', 'chicken', 'cranberry', 'mmmm'],\n",
       " ['highly', 'recommended'],\n",
       " ['food', 'amazing'],\n",
       " ['service', 'cute']]"
      ]
     },
     "execution_count": 13,
     "metadata": {},
     "output_type": "execute_result"
    }
   ],
   "source": [
    "korpus_p[5:10]"
   ]
  },
  {
   "cell_type": "markdown",
   "id": "aab161f5",
   "metadata": {},
   "source": [
    "### Negative reviews corpus"
   ]
  },
  {
   "cell_type": "code",
   "execution_count": 14,
   "id": "23879f21",
   "metadata": {},
   "outputs": [
    {
     "data": {
      "text/plain": [
       "[['cashier', 'care', 'ended', 'wayyy', 'overpriced'],\n",
       " ['disgusted', 'pretty', 'human', 'hair'],\n",
       " ['shocked', 'sign', 'cash'],\n",
       " ['waitress', 'slow', 'service'],\n",
       " ['place', 'worth', 'time', 'vega']]"
      ]
     },
     "execution_count": 14,
     "metadata": {},
     "output_type": "execute_result"
    }
   ],
   "source": [
    "korpus_n[6:11]"
   ]
  },
  {
   "cell_type": "markdown",
   "id": "0546f625",
   "metadata": {},
   "source": [
    "## Preliminary analysis"
   ]
  },
  {
   "cell_type": "markdown",
   "id": "47c38349",
   "metadata": {},
   "source": [
    "### Number of words/review"
   ]
  },
  {
   "cell_type": "code",
   "execution_count": 15,
   "id": "e1bc36ce",
   "metadata": {},
   "outputs": [],
   "source": [
    "pos_count = pd.DataFrame(df_pos['words'].value_counts()[:20])\n",
    "neg_count = pd.DataFrame(df_neg['words'].value_counts()[:20])"
   ]
  },
  {
   "cell_type": "code",
   "execution_count": 16,
   "id": "e9340a4b",
   "metadata": {},
   "outputs": [],
   "source": [
    "# len\n",
    "len_vector_p = []\n",
    "for i in corpus_p:\n",
    "    len_vector_p.append(len(i))\n",
    "    \n",
    "len_vector_n = []\n",
    "for i in corpus_n:\n",
    "    len_vector_n.append(len(i))"
   ]
  },
  {
   "cell_type": "code",
   "execution_count": 17,
   "id": "1232d726",
   "metadata": {},
   "outputs": [
    {
     "data": {
      "text/plain": [
       "55.88"
      ]
     },
     "execution_count": 17,
     "metadata": {},
     "output_type": "execute_result"
    }
   ],
   "source": [
    "np.mean(len_vector_p)"
   ]
  },
  {
   "cell_type": "code",
   "execution_count": 18,
   "id": "5b8e623f",
   "metadata": {},
   "outputs": [
    {
     "data": {
      "text/plain": [
       "60.75"
      ]
     },
     "execution_count": 18,
     "metadata": {},
     "output_type": "execute_result"
    }
   ],
   "source": [
    "np.mean(len_vector_n)"
   ]
  },
  {
   "cell_type": "code",
   "execution_count": 19,
   "id": "b8112f51",
   "metadata": {},
   "outputs": [
    {
     "data": {
      "image/png": "[encoded data removed]",
      "text/plain": [
       "<Figure size 1368x504 with 2 Axes>"
      ]
     },
     "metadata": {
      "needs_background": "light"
     },
     "output_type": "display_data"
    }
   ],
   "source": [
    "sns.set_context('talk',font_scale=1)\n",
    "fig, axs = plt.subplots(ncols=2, nrows=1, figsize=(19,7))\n",
    "\n",
    "f1 = sns.histplot(len_vector_p, color = 'skyblue', bins = 25, ax = axs[0])\n",
    "f1.set_title(\"Positive reviews - number words used in reviews\")\n",
    "f1.set_xlabel('Reviews')\n",
    "f1.set_ylabel('Number of words')\n",
    "\n",
    "f2 = sns.histplot(len_vector_n, color = 'indianred', bins = 25, ax = axs[1])\n",
    "f2.set_title(\"Negative reviews - number words used in reviews\")\n",
    "f2.set_xlabel('Reviews')\n",
    "f2.set_ylabel('Number of words')\n",
    "plt.show()"
   ]
  },
  {
   "cell_type": "markdown",
   "id": "ecc50c89",
   "metadata": {},
   "source": [
    "The number of words used in reviews is pretty the same for both positive and negative ones, with an average of 55 words for positive reviews and an average of 60 word/review for the negative ones. "
   ]
  },
  {
   "cell_type": "markdown",
   "id": "5888fff7",
   "metadata": {},
   "source": [
    "### Most used words in reviews"
   ]
  },
  {
   "cell_type": "code",
   "execution_count": 20,
   "id": "10b2447e",
   "metadata": {},
   "outputs": [
    {
     "data": {
      "image/png": "[encoded data removed]",
      "text/plain": [
       "<Figure size 1368x360 with 2 Axes>"
      ]
     },
     "metadata": {
      "needs_background": "light"
     },
     "output_type": "display_data"
    }
   ],
   "source": [
    "fig, axs = plt.subplots(ncols=2, nrows=1, figsize=(19,5))\n",
    "\n",
    "g = sns.barplot(x = \"words\", y = pos_count.index, data = pos_count, color = \"skyblue\", orient='h', ax = axs[0])\n",
    "g.set_title(\"Most used words - positive reviews\", size = 15)\n",
    "\n",
    "f = sns.barplot(x = 'words', y = neg_count.index, data = neg_count, color = 'indianred', orient = 'h', ax = axs[1])\n",
    "f.set_title(\"Most used words - negative reviews\", size = 15)\n",
    "\n",
    "plt.show()"
   ]
  },
  {
   "cell_type": "markdown",
   "id": "f32d95d4",
   "metadata": {},
   "source": [
    "## Sentiment analysis of reviews (VADER model)"
   ]
  },
  {
   "cell_type": "markdown",
   "id": "1aae987f",
   "metadata": {},
   "source": [
    "Because we have labeled data, we already know which is a posite review and which is a negative one, in a general way. But for a better understanding of customer's opinion about the restaurant, I decided to use a pre trained model that measures the polarity and intensity of emotion for a better performance of the topic modeling model, in order to discover which is the real sentiment of customer regarding the restaurant."
   ]
  },
  {
   "cell_type": "markdown",
   "id": "3c84aa5d",
   "metadata": {},
   "source": [
    "VADER ( Valence Aware Dictionary for Sentiment Reasoning) is a model used for text sentiment analysis that is sensitive to both \n",
    "polarity (positive/negative) and intensity (strength) of emotion. It is available in the NLTK package and can be applied directly to unlabeled text data.\n",
    "\n",
    "The model works best when applied to social media text, but it has also proven itself to be a great tool when analyzing the sentiment of movie reviews and opinion articles.\n",
    "(source:https://towardsdatascience.com/sentimental-analysis-using-vader-a3415fef7664)"
   ]
  },
  {
   "cell_type": "code",
   "execution_count": 21,
   "id": "29c8033e",
   "metadata": {},
   "outputs": [
    {
     "data": {
      "text/plain": [
       "{'neg': 0.7, 'neu': 0.3, 'pos': 0.0, 'compound': -0.7906}"
      ]
     },
     "execution_count": 21,
     "metadata": {},
     "output_type": "execute_result"
    }
   ],
   "source": [
    "from nltk.sentiment import SentimentIntensityAnalyzer\n",
    "sia = SentimentIntensityAnalyzer()\n",
    "sia.polarity_scores(\"This is a bad bad example\")"
   ]
  },
  {
   "cell_type": "markdown",
   "id": "94b2d493",
   "metadata": {},
   "source": [
    "The compound score is the sum of positive, negative & neutral scores which is then normalized between -1(most extreme negative) and +1 (most extreme positive). The more Compound score closer to +1, the higher the positivity of the text and vice versa. In the same way, the more compound score is closer to -1, the higher the negativity."
   ]
  },
  {
   "cell_type": "code",
   "execution_count": 22,
   "id": "2d286cae",
   "metadata": {},
   "outputs": [],
   "source": [
    "compounds_p = []\n",
    "for rev in corpus_p:\n",
    "    compounds_p.append(sia.polarity_scores(rev)['compound'])\n",
    "    \n",
    "compounds_n = []\n",
    "for rev in corpus_n:\n",
    "    compounds_n.append(sia.polarity_scores(rev)['compound'])"
   ]
  },
  {
   "cell_type": "code",
   "execution_count": 23,
   "id": "9b9a8ad2",
   "metadata": {},
   "outputs": [],
   "source": [
    "data_Preview = {'review':corpus_p, 'compound_score':compounds_p}\n",
    "Preview_score_df = pd.DataFrame(data_Preview)\n",
    "\n",
    "data_Nreview = {'review':corpus_n, 'compound_score':compounds_n}\n",
    "Nreview_score_df = pd.DataFrame(data_Nreview)"
   ]
  },
  {
   "cell_type": "markdown",
   "id": "78561574",
   "metadata": {},
   "source": [
    "#### Examples of positive reviews and their sentiment score"
   ]
  },
  {
   "cell_type": "code",
   "execution_count": 24,
   "id": "482474c2",
   "metadata": {},
   "outputs": [
    {
     "data": {
      "text/html": [
       "<div>\n",
       "<style scoped>\n",
       "    .dataframe tbody tr th:only-of-type {\n",
       "        vertical-align: middle;\n",
       "    }\n",
       "\n",
       "    .dataframe tbody tr th {\n",
       "        vertical-align: top;\n",
       "    }\n",
       "\n",
       "    .dataframe thead th {\n",
       "        text-align: right;\n",
       "    }\n",
       "</style>\n",
       "<table border=\"1\" class=\"dataframe\">\n",
       "  <thead>\n",
       "    <tr style=\"text-align: right;\">\n",
       "      <th></th>\n",
       "      <th>review</th>\n",
       "      <th>compound_score</th>\n",
       "    </tr>\n",
       "  </thead>\n",
       "  <tbody>\n",
       "    <tr>\n",
       "      <th>0</th>\n",
       "      <td>Wow... Loved this place.</td>\n",
       "      <td>0.5994</td>\n",
       "    </tr>\n",
       "    <tr>\n",
       "      <th>1</th>\n",
       "      <td>Stopped by during the late May bank holiday of...</td>\n",
       "      <td>0.6908</td>\n",
       "    </tr>\n",
       "    <tr>\n",
       "      <th>2</th>\n",
       "      <td>The selection on the menu was great and so wer...</td>\n",
       "      <td>0.6249</td>\n",
       "    </tr>\n",
       "    <tr>\n",
       "      <th>3</th>\n",
       "      <td>The fries were great too.</td>\n",
       "      <td>0.6249</td>\n",
       "    </tr>\n",
       "    <tr>\n",
       "      <th>4</th>\n",
       "      <td>A great touch.</td>\n",
       "      <td>0.6249</td>\n",
       "    </tr>\n",
       "  </tbody>\n",
       "</table>\n",
       "</div>"
      ],
      "text/plain": [
       "                                              review  compound_score\n",
       "0                           Wow... Loved this place.          0.5994\n",
       "1  Stopped by during the late May bank holiday of...          0.6908\n",
       "2  The selection on the menu was great and so wer...          0.6249\n",
       "3                          The fries were great too.          0.6249\n",
       "4                                     A great touch.          0.6249"
      ]
     },
     "execution_count": 24,
     "metadata": {},
     "output_type": "execute_result"
    }
   ],
   "source": [
    "Preview_score_df.head()"
   ]
  },
  {
   "cell_type": "markdown",
   "id": "3bcddfa8",
   "metadata": {},
   "source": [
    "#### Examples of negative reviews and their sentiment score"
   ]
  },
  {
   "cell_type": "code",
   "execution_count": 25,
   "id": "6a74bfef",
   "metadata": {},
   "outputs": [
    {
     "data": {
      "text/html": [
       "<div>\n",
       "<style scoped>\n",
       "    .dataframe tbody tr th:only-of-type {\n",
       "        vertical-align: middle;\n",
       "    }\n",
       "\n",
       "    .dataframe tbody tr th {\n",
       "        vertical-align: top;\n",
       "    }\n",
       "\n",
       "    .dataframe thead th {\n",
       "        text-align: right;\n",
       "    }\n",
       "</style>\n",
       "<table border=\"1\" class=\"dataframe\">\n",
       "  <thead>\n",
       "    <tr style=\"text-align: right;\">\n",
       "      <th></th>\n",
       "      <th>review</th>\n",
       "      <th>compound_score</th>\n",
       "    </tr>\n",
       "  </thead>\n",
       "  <tbody>\n",
       "    <tr>\n",
       "      <th>0</th>\n",
       "      <td>Crust is not good.</td>\n",
       "      <td>-0.3412</td>\n",
       "    </tr>\n",
       "    <tr>\n",
       "      <th>1</th>\n",
       "      <td>Not tasty and the texture was just nasty.</td>\n",
       "      <td>-0.5574</td>\n",
       "    </tr>\n",
       "    <tr>\n",
       "      <th>2</th>\n",
       "      <td>Now I am getting angry and I want my damn pho.</td>\n",
       "      <td>-0.6908</td>\n",
       "    </tr>\n",
       "    <tr>\n",
       "      <th>3</th>\n",
       "      <td>Honeslty it didn't taste THAT fresh.)</td>\n",
       "      <td>0.0000</td>\n",
       "    </tr>\n",
       "    <tr>\n",
       "      <th>4</th>\n",
       "      <td>The potatoes were like rubber and you could te...</td>\n",
       "      <td>0.5719</td>\n",
       "    </tr>\n",
       "  </tbody>\n",
       "</table>\n",
       "</div>"
      ],
      "text/plain": [
       "                                              review  compound_score\n",
       "0                                 Crust is not good.         -0.3412\n",
       "1          Not tasty and the texture was just nasty.         -0.5574\n",
       "2     Now I am getting angry and I want my damn pho.         -0.6908\n",
       "3              Honeslty it didn't taste THAT fresh.)          0.0000\n",
       "4  The potatoes were like rubber and you could te...          0.5719"
      ]
     },
     "execution_count": 25,
     "metadata": {},
     "output_type": "execute_result"
    }
   ],
   "source": [
    "Nreview_score_df.head()"
   ]
  },
  {
   "cell_type": "code",
   "execution_count": 26,
   "id": "c16f53c8",
   "metadata": {},
   "outputs": [
    {
     "data": {
      "image/png": "[encoded data removed]",
      "text/plain": [
       "<Figure size 1368x504 with 2 Axes>"
      ]
     },
     "metadata": {
      "needs_background": "light"
     },
     "output_type": "display_data"
    }
   ],
   "source": [
    "fig, axs = plt.subplots(ncols=2, nrows=1, figsize=(19,7))\n",
    "\n",
    "\n",
    "f1 = sns.histplot(compounds_p, color = 'skyblue', bins = 25, ax = axs[0])\n",
    "f2 = sns.histplot(compounds_n, color = 'indianred', bins = 25, ax = axs[1])\n",
    "\n",
    "\n",
    "f1.set_title(\"Positive reviews - sentiment score\", size = 15)\n",
    "f1.set_xlabel('Sentiment score')\n",
    "f2.set_title(\"Negative reviews - sentiment score\", size = 15)\n",
    "f2.set_xlabel('Sentiment score')\n",
    "plt.show()"
   ]
  },
  {
   "cell_type": "code",
   "execution_count": 27,
   "id": "65866848",
   "metadata": {},
   "outputs": [
    {
     "data": {
      "image/png": "[encoded data removed]",
      "text/plain": [
       "<Figure size 1368x576 with 1 Axes>"
      ]
     },
     "metadata": {
      "needs_background": "light"
     },
     "output_type": "display_data"
    }
   ],
   "source": [
    "fig = plt.figure(figsize=(19,8))\n",
    "\n",
    "sns.histplot(compounds_n, color = 'indianred', kde = True, bins = 25)\n",
    "b=sns.histplot(compounds_p, color = 'skyblue', kde = True, bins = 25)\n",
    "b.set_title(\"Distribution of sentiment score of reviews\", size = 15)\n",
    "plt.show()"
   ]
  },
  {
   "cell_type": "markdown",
   "id": "a9c54ee0",
   "metadata": {},
   "source": [
    "According to the plots above that shows the distribution of the sentiment score for positive and negative reviews, we can see that are some negative reviews with a positive sentiment score of 0.7 or even 0.7. But this fact is due to usage of words like **\"best, love, good\"** in ambigous expressions like **\"definitely lost the love after this one!\"**. The same thing is valid for positive reviews with negative scores."
   ]
  },
  {
   "cell_type": "code",
   "execution_count": 28,
   "id": "21ba8352",
   "metadata": {},
   "outputs": [
    {
     "name": "stdout",
     "output_type": "stream",
     "text": [
      "We aren't ones to make a scene at restaurants but I just don't get it...definitely lost the love after this one!\n",
      "Maybe it's just their Vegetarian fare, but I've been twice and I thought it was average at best.\n",
      "Best of luck to the rude and non-customer service focused new management.\n",
      "The service here is fair at best.\n",
      "seems like a good quick place to grab a bite of some familiar pub food, but do yourself a favor and look elsewhere.\n",
      "There is really nothing for me at postinos, hope your experience is better\n",
      "The chicken dishes are OK, the beef is like shoe leather.\n",
      "Also, the fries are without a doubt the worst fries I've ever had.\n",
      "Paying $7.85 for a hot dog and fries that looks like it came out of a kid's meal at the Wienerschnitzel is not my idea of a good meal.\n",
      "By this point, my friends and I had basically figured out this place was a joke and didn't mind making it publicly and loudly known.\n",
      "REAL sushi lovers, let's be honest - Yama is not that good.\n",
      "The feel of the dining room was more college cooking course than high class dining and the service was slow at best.\n",
      "I work in the hospitality industry in Paradise Valley and have refrained from recommending Cibo any longer.\n",
      "Food was average at best.\n",
      "Coming here is like experiencing an underwhelming relationship where both parties can't wait for the other person to ask to break up.\n"
     ]
    }
   ],
   "source": [
    "for rev in Nreview_score_df.sort_values(by = 'compound_score', ascending = False)['review'][:15]:\n",
    "    print(rev)"
   ]
  },
  {
   "cell_type": "code",
   "execution_count": 29,
   "id": "45a6d05b",
   "metadata": {},
   "outputs": [
    {
     "name": "stdout",
     "output_type": "stream",
     "text": [
      "Sentiment score of the reviews above:\n",
      "[0.8603, 0.7783, 0.7783, 0.7579, 0.7391, 0.7003, 0.6633, 0.6602, 0.6597, 0.6486, 0.6479, 0.6369, 0.6369, 0.6369, 0.6369],"
     ]
    }
   ],
   "source": [
    "print(\"Sentiment score of the reviews above:\")\n",
    "print(Nreview_score_df.sort_values(by = 'compound_score', ascending = False)['compound_score'][:15].tolist(), end =',')"
   ]
  },
  {
   "cell_type": "markdown",
   "id": "d4ffd853",
   "metadata": {},
   "source": [
    "### Adjusting data"
   ]
  },
  {
   "cell_type": "markdown",
   "id": "43a1952a",
   "metadata": {},
   "source": [
    "I had an advantage by having labeled data. This helped me in counteracting the model's deficiencies, caused by the ambiguity of human language. The ambiguity of human language is the biggest challenge of \"text mining\". So, knowing exact how the reviews are labeled (positive or negative), I chose to better adjust the data to the model by droping all of the negative reviews with a positive sentiment score and all of positive reviews with a negative sentiment score.\n",
    "\n",
    "Also, droping deleting score 0 because considering \"neutral and insignifiant\" for knowing what customers really desire."
   ]
  },
  {
   "cell_type": "code",
   "execution_count": 30,
   "id": "f4755784",
   "metadata": {},
   "outputs": [],
   "source": [
    "new_compounds_p = Preview_score_df[Preview_score_df['compound_score'] > 0]['compound_score'] \n",
    "new_compounds_n = Nreview_score_df[Nreview_score_df['compound_score'] < 0]['compound_score']"
   ]
  },
  {
   "cell_type": "code",
   "execution_count": 31,
   "id": "581efd34",
   "metadata": {},
   "outputs": [
    {
     "data": {
      "image/png": "[encoded data removed]",
      "text/plain": [
       "<Figure size 1368x576 with 1 Axes>"
      ]
     },
     "metadata": {
      "needs_background": "light"
     },
     "output_type": "display_data"
    }
   ],
   "source": [
    "fig = plt.figure(figsize=(19,8))\n",
    "\n",
    "sns.histplot(new_compounds_n, color = 'indianred', kde = True, bins = 25)\n",
    "b = sns.histplot(new_compounds_p, color = 'skyblue', kde = True, bins = 25)\n",
    "b.set_title(\"Adjusted distribution of sentiment score of reviews\", size = 15)\n",
    "plt.show()"
   ]
  },
  {
   "cell_type": "code",
   "execution_count": 32,
   "id": "aab10831",
   "metadata": {},
   "outputs": [
    {
     "name": "stdout",
     "output_type": "stream",
     "text": [
      "Positive reviews:\n"
     ]
    },
    {
     "data": {
      "text/html": [
       "<div>\n",
       "<style scoped>\n",
       "    .dataframe tbody tr th:only-of-type {\n",
       "        vertical-align: middle;\n",
       "    }\n",
       "\n",
       "    .dataframe tbody tr th {\n",
       "        vertical-align: top;\n",
       "    }\n",
       "\n",
       "    .dataframe thead th {\n",
       "        text-align: right;\n",
       "    }\n",
       "</style>\n",
       "<table border=\"1\" class=\"dataframe\">\n",
       "  <thead>\n",
       "    <tr style=\"text-align: right;\">\n",
       "      <th></th>\n",
       "      <th>count</th>\n",
       "      <th>mean</th>\n",
       "      <th>std</th>\n",
       "      <th>min</th>\n",
       "      <th>25%</th>\n",
       "      <th>50%</th>\n",
       "      <th>75%</th>\n",
       "      <th>max</th>\n",
       "    </tr>\n",
       "  </thead>\n",
       "  <tbody>\n",
       "    <tr>\n",
       "      <th>compound_score</th>\n",
       "      <td>406.0</td>\n",
       "      <td>0.616009</td>\n",
       "      <td>0.162163</td>\n",
       "      <td>0.0516</td>\n",
       "      <td>0.4939</td>\n",
       "      <td>0.6249</td>\n",
       "      <td>0.732675</td>\n",
       "      <td>0.9524</td>\n",
       "    </tr>\n",
       "  </tbody>\n",
       "</table>\n",
       "</div>"
      ],
      "text/plain": [
       "                count      mean       std     min     25%     50%       75%  \\\n",
       "compound_score  406.0  0.616009  0.162163  0.0516  0.4939  0.6249  0.732675   \n",
       "\n",
       "                   max  \n",
       "compound_score  0.9524  "
      ]
     },
     "execution_count": 32,
     "metadata": {},
     "output_type": "execute_result"
    }
   ],
   "source": [
    "print(\"Positive reviews:\")\n",
    "pd.DataFrame(new_compounds_p.describe()).transpose()"
   ]
  },
  {
   "cell_type": "code",
   "execution_count": 33,
   "id": "e403359f",
   "metadata": {},
   "outputs": [
    {
     "name": "stdout",
     "output_type": "stream",
     "text": [
      "Negative reviews:\n"
     ]
    },
    {
     "data": {
      "text/html": [
       "<div>\n",
       "<style scoped>\n",
       "    .dataframe tbody tr th:only-of-type {\n",
       "        vertical-align: middle;\n",
       "    }\n",
       "\n",
       "    .dataframe tbody tr th {\n",
       "        vertical-align: top;\n",
       "    }\n",
       "\n",
       "    .dataframe thead th {\n",
       "        text-align: right;\n",
       "    }\n",
       "</style>\n",
       "<table border=\"1\" class=\"dataframe\">\n",
       "  <thead>\n",
       "    <tr style=\"text-align: right;\">\n",
       "      <th></th>\n",
       "      <th>count</th>\n",
       "      <th>mean</th>\n",
       "      <th>std</th>\n",
       "      <th>min</th>\n",
       "      <th>25%</th>\n",
       "      <th>50%</th>\n",
       "      <th>75%</th>\n",
       "      <th>max</th>\n",
       "    </tr>\n",
       "  </thead>\n",
       "  <tbody>\n",
       "    <tr>\n",
       "      <th>compound_score</th>\n",
       "      <td>240.0</td>\n",
       "      <td>-0.434587</td>\n",
       "      <td>0.191466</td>\n",
       "      <td>-0.8637</td>\n",
       "      <td>-0.57075</td>\n",
       "      <td>-0.4588</td>\n",
       "      <td>-0.296</td>\n",
       "      <td>-0.0056</td>\n",
       "    </tr>\n",
       "  </tbody>\n",
       "</table>\n",
       "</div>"
      ],
      "text/plain": [
       "                count      mean       std     min      25%     50%    75%  \\\n",
       "compound_score  240.0 -0.434587  0.191466 -0.8637 -0.57075 -0.4588 -0.296   \n",
       "\n",
       "                   max  \n",
       "compound_score -0.0056  "
      ]
     },
     "execution_count": 33,
     "metadata": {},
     "output_type": "execute_result"
    }
   ],
   "source": [
    "print(\"Negative reviews:\")\n",
    "pd.DataFrame(new_compounds_n.describe()).transpose()"
   ]
  },
  {
   "cell_type": "markdown",
   "id": "2069b488",
   "metadata": {},
   "source": [
    "I proceeded in this way by adjusting the data based on the knowledge revealed by the labeled data classes due to the fact that the ultimate goal of this analysis is to identify what customers think and which services can be made better.\n",
    "**The main purpose of computing the sentiment score and than, performing further data transformation, was to achive a better normalization of the data in order to obtain better results in the final step of this analysis which will be topic modeling.**"
   ]
  },
  {
   "cell_type": "code",
   "execution_count": 34,
   "id": "9b916f56",
   "metadata": {},
   "outputs": [
    {
     "data": {
      "image/png": "[encoded data removed]",
      "text/plain": [
       "<Figure size 864x504 with 2 Axes>"
      ]
     },
     "metadata": {
      "needs_background": "light"
     },
     "output_type": "display_data"
    }
   ],
   "source": [
    "fig, axs = plt.subplots(ncols=1, nrows=2, figsize=(12,7))\n",
    "\n",
    "b1 = sns.boxplot(new_compounds_p, ax = axs[0], color = 'skyblue')\n",
    "b2 = sns.boxplot(new_compounds_n, ax = axs[1], color = 'indianred')\n",
    "\n",
    "b1.set_title(\"Positive score\", size = 15)\n",
    "b2.set_title(\"Negative score\", size = 15)\n",
    "\n",
    "plt.tight_layout()"
   ]
  },
  {
   "cell_type": "markdown",
   "id": "40f1b2f0",
   "metadata": {},
   "source": [
    "We can now observe that we have normalized data (in terms of the degree of ambiguity of the human language) which will make the results obtained in the last step of this analysis much clearer."
   ]
  },
  {
   "cell_type": "markdown",
   "id": "c994139f",
   "metadata": {},
   "source": [
    "## Topic modeling with Gensim"
   ]
  },
  {
   "cell_type": "markdown",
   "id": "907a6974",
   "metadata": {},
   "source": [
    "**Topic modeling** is a type of statistical modeling tool which is used to assess what all abstract topics are being discussed in a set of documents. Topic modeling, by its construction solves the problem of creating topic in an unsupervised manner."
   ]
  },
  {
   "cell_type": "markdown",
   "id": "c0b29bc4",
   "metadata": {},
   "source": [
    "**Gensim** is an open source library in python which is used in unsupervised topic modelling and natural language processing. It is designed to extract semantic topics from documents. It can handle large text collections. Hence it makes it different from other machine learning software packages which target memory processing. Gensim also provides efficient multicore implementations for various algorithms to increase processing speed. It provides more convenient  facilities for text processing than other packages like Scikit-learn, R etc."
   ]
  },
  {
   "cell_type": "code",
   "execution_count": 35,
   "id": "221ea81b",
   "metadata": {},
   "outputs": [],
   "source": [
    "id2word_p = corpora.Dictionary(korpus_p)\n",
    "x_korpus_p = [id2word_p.doc2bow(text) for text in korpus_p]\n",
    "\n",
    "id2word_n = corpora.Dictionary(korpus_n)\n",
    "x_korpus_n = [id2word_n.doc2bow(text) for text in korpus_n]"
   ]
  },
  {
   "cell_type": "code",
   "execution_count": 36,
   "id": "75836e52",
   "metadata": {},
   "outputs": [
    {
     "data": {
      "text/plain": [
       "[[(0, 1), (1, 1), (2, 1)],\n",
       " [(0, 1), (3, 1), (4, 1), (5, 1), (6, 1), (7, 1), (8, 1), (9, 1)],\n",
       " [(10, 1), (11, 1), (12, 1), (13, 1)],\n",
       " [(10, 1), (14, 1)],\n",
       " [(10, 1), (15, 1)],\n",
       " [(16, 1), (17, 1)],\n",
       " [(18, 1), (19, 1), (20, 1), (21, 1), (22, 1), (23, 1)],\n",
       " [(24, 1), (25, 1)],\n",
       " [(26, 1), (27, 1)],\n",
       " [(17, 1), (28, 1)]]"
      ]
     },
     "execution_count": 36,
     "metadata": {},
     "output_type": "execute_result"
    }
   ],
   "source": [
    "x_korpus_p[:10]"
   ]
  },
  {
   "cell_type": "code",
   "execution_count": 37,
   "id": "612303e9",
   "metadata": {},
   "outputs": [
    {
     "data": {
      "text/plain": [
       "[[(0, 1), (1, 1)],\n",
       " [(2, 1), (3, 1), (4, 1)],\n",
       " [(5, 1), (6, 1), (7, 1)],\n",
       " [(8, 1), (9, 1), (10, 1)],\n",
       " [(11, 1), (12, 1), (13, 1), (14, 1), (15, 1)],\n",
       " [],\n",
       " [(16, 1), (17, 1), (18, 1), (19, 1), (20, 1)],\n",
       " [(21, 1), (22, 1), (23, 1), (24, 1)],\n",
       " [(25, 1), (26, 1), (27, 1)],\n",
       " [(28, 1), (29, 1), (30, 1)]]"
      ]
     },
     "execution_count": 37,
     "metadata": {},
     "output_type": "execute_result"
    }
   ],
   "source": [
    "x_korpus_n[:10]"
   ]
  },
  {
   "cell_type": "markdown",
   "id": "0f398656",
   "metadata": {},
   "source": [
    "Running the model with different parameters, I noticed that the optimal number of clusters for both positive and negative reviews is 3."
   ]
  },
  {
   "cell_type": "code",
   "execution_count": 38,
   "id": "346cc3db",
   "metadata": {},
   "outputs": [],
   "source": [
    "lda_model_p = gensim.models.ldamodel.LdaModel(corpus = x_korpus_p,\n",
    "                                           id2word = id2word_p,\n",
    "                                           num_topics = 3, # from num_topics > 3, it strarts to intersect\n",
    "                                           random_state=100,\n",
    "                                           update_every=1,\n",
    "                                           chunksize=58,\n",
    "                                           passes=10,\n",
    "                                           alpha = \"auto\", \n",
    "                                           iterations=100)"
   ]
  },
  {
   "cell_type": "code",
   "execution_count": 39,
   "id": "60a988b7",
   "metadata": {},
   "outputs": [],
   "source": [
    "lda_model_n = gensim.models.ldamodel.LdaModel(corpus = x_korpus_n,\n",
    "                                           id2word = id2word_n,\n",
    "                                           num_topics = 3, # from num_topics > 3, it strarts to intersect\n",
    "                                           random_state=100,\n",
    "                                           update_every=1,\n",
    "                                           chunksize=58,\n",
    "                                           passes=10,\n",
    "                                           alpha = \"auto\", \n",
    "                                           iterations=100)"
   ]
  },
  {
   "cell_type": "markdown",
   "id": "dd0dc464",
   "metadata": {},
   "source": [
    "## Topics discussed in positive reviews"
   ]
  },
  {
   "cell_type": "code",
   "execution_count": 40,
   "id": "079f926e",
   "metadata": {},
   "outputs": [
    {
     "name": "stderr",
     "output_type": "stream",
     "text": [
      "WARNING:root:Unknown mds `mnds`, switch to PCoA\n"
     ]
    },
    {
     "data": {
      "text/html": [
       "\n",
       "<link rel=\"stylesheet\" type=\"text/css\" href=\"https://cdn.jsdelivr.net/gh/bmabey/pyLDAvis@3.3.1/pyLDAvis/js/ldavis.v1.0.0.css\">\n",
       "\n",
       "\n",
       "<div id=\"ldavis_el1916025920073596161513200290\"></div>\n",
       "<script type=\"text/javascript\">\n",
       "\n",
       "var ldavis_el1916025920073596161513200290_data = {\"mdsDat\": {\"x\": [-0.19565647310400838, 0.12688503838959872, 0.0687714347144096], \"y\": [-0.027499484760615946, -0.12512786613573354, 0.15262735089634946], \"topics\": [1, 2, 3], \"cluster\": [1, 1, 1], \"Freq\": [37.89972621110725, 36.00957550738076, 26.090698281511994]}, \"tinfo\": {\"Term\": [\"great\", \"service\", \"food\", \"place\", \"time\", \"nice\", \"love\", \"vega\", \"friendly\", \"amazing\", \"salad\", \"experience\", \"awesome\", \"restaurant\", \"pizza\", \"perfect\", \"delicious\", \"steak\", \"beer\", \"staff\", \"great\", \"service\", \"food\", \"experience\", \"restaurant\", \"friendly\", \"awesome\", \"amazing\", \"perfect\", \"menu\", \"pretty\", \"excellent\", \"chicken\", \"happy\", \"atmosphere\", \"bar\", \"boyfriend\", \"family\", \"table\", \"beautiful\", \"enjoyed\", \"good\", \"server\", \"nice\", \"love\", \"delicious\", \"staff\", \"eat\", \"star\", \"fantastic\", \"price\", \"selection\", \"bread\", \"spicy\", \"lot\", \"hot\", \"fry\", \"inside\", \"thing\", \"authentic\", \"super\", \"potato\", \"special\", \"chef\", \"place\", \"good\", \"fresh\", \"time\", \"vega\", \"pizza\", \"steak\", \"salad\", \"beer\", \"sandwich\", \"spot\", \"buffet\", \"breakfast\", \"sushi\", \"night\", \"tasty\", \"sat\", \"loved\", \"visit\", \"recommend\", \"reasonable\", \"salmon\", \"mouth\", \"flavorful\", \"sauce\", \"lunch\", \"place\", \"good\"], \"Freq\": [58.0, 39.0, 37.0, 45.0, 16.0, 18.0, 16.0, 11.0, 16.0, 16.0, 10.0, 15.0, 15.0, 15.0, 9.0, 12.0, 11.0, 7.0, 7.0, 10.0, 57.86505115333664, 39.48799984516917, 36.78385893716307, 14.822282555903183, 14.59755152812834, 15.49708468673004, 14.861021577332185, 15.91160751721378, 11.84905591070069, 9.066482885424065, 9.094945355338997, 9.128247202698553, 9.267585570319097, 7.108248153966372, 6.949820797510477, 6.09878192119407, 5.945994254602733, 5.081692843882136, 3.711202453226099, 3.680369423420632, 6.222393062178089, 29.63124407283914, 5.331775098912223, 17.84678049820492, 16.341229138796383, 10.514814661842292, 9.819240649374738, 7.410790055933198, 7.677794833218428, 6.463399290152566, 9.044865222177414, 6.781292357029554, 5.020068800910353, 4.651807679872335, 5.631855334002814, 4.5949634072500185, 4.6285677654699375, 4.656783054748535, 4.464178001593225, 4.266574412395277, 5.053626836797399, 4.616894181260297, 3.9035584047410357, 5.061754624588428, 35.721941620784236, 10.462062076515215, 4.6452961851729375, 15.848257952923966, 10.901614149312476, 8.736780807644639, 7.302873890665372, 10.172194435956396, 6.955127187069902, 6.206916955516214, 6.166805284357281, 6.623678060509168, 6.523932531056704, 5.042107236737589, 4.659195501655992, 4.392612414996779, 4.384002783482754, 3.970046753648727, 3.714502470355389, 3.545369217951846, 4.55743930259122, 3.3213401412461776, 3.1045799914709815, 3.2111439318711916, 3.7537520940264573, 3.4826248630623877, 9.629946686587312, 9.554368435135475], \"Total\": [58.0, 39.0, 37.0, 45.0, 16.0, 18.0, 16.0, 11.0, 16.0, 16.0, 10.0, 15.0, 15.0, 15.0, 9.0, 12.0, 11.0, 7.0, 7.0, 10.0, 58.36108085443345, 39.967768026014994, 37.3173757747832, 15.306422464694792, 15.087145617633533, 16.01747325921995, 15.384249664917824, 16.61206047992385, 12.449902008565271, 9.54467365914955, 9.622555964052214, 9.69246352844958, 9.86108218462171, 7.587453224313212, 7.456354139421874, 6.605613004961587, 6.490418269520963, 5.564501194648704, 4.173326916489494, 4.14363260480513, 7.423087243000732, 49.64767458448983, 8.808252168568137, 18.341034956457936, 16.852724610447268, 11.011005436492946, 10.329885969543117, 7.893011639218138, 8.187471630259985, 6.947337134507199, 9.774642175492408, 7.376055480122492, 5.486537596105352, 5.127954605752761, 6.210511048602899, 5.070418854635969, 5.111462592386187, 5.158799365600887, 4.9621379598231155, 4.7497864148519575, 5.638922784892187, 5.166618657608415, 4.370700707776598, 5.690276142993042, 45.607851607028024, 49.64767458448983, 6.482375823823995, 16.38970204989683, 11.399787525755878, 9.309553638586138, 7.787530418603695, 10.872733345566104, 7.481151253710439, 6.688988043277374, 6.670729121591985, 7.2185276684479, 7.234227658874486, 5.612040421502389, 5.228142037308253, 4.938306128560441, 4.938268017525945, 4.4736026303406415, 4.202108958528809, 4.038189758496092, 5.224391305959225, 3.815223971870843, 3.586459571089693, 3.7234482143456638, 4.506871518208767, 4.123542151875928, 45.607851607028024, 49.64767458448983], \"Category\": [\"Default\", \"Default\", \"Default\", \"Default\", \"Default\", \"Default\", \"Default\", \"Default\", \"Default\", \"Default\", \"Default\", \"Default\", \"Default\", \"Default\", \"Default\", \"Default\", \"Default\", \"Default\", \"Default\", \"Default\", \"Topic1\", \"Topic1\", \"Topic1\", \"Topic1\", \"Topic1\", \"Topic1\", \"Topic1\", \"Topic1\", \"Topic1\", \"Topic1\", \"Topic1\", \"Topic1\", \"Topic1\", \"Topic1\", \"Topic1\", \"Topic1\", \"Topic1\", \"Topic1\", \"Topic1\", \"Topic1\", \"Topic1\", \"Topic1\", \"Topic1\", \"Topic2\", \"Topic2\", \"Topic2\", \"Topic2\", \"Topic2\", \"Topic2\", \"Topic2\", \"Topic2\", \"Topic2\", \"Topic2\", \"Topic2\", \"Topic2\", \"Topic2\", \"Topic2\", \"Topic2\", \"Topic2\", \"Topic2\", \"Topic2\", \"Topic2\", \"Topic2\", \"Topic2\", \"Topic2\", \"Topic2\", \"Topic2\", \"Topic3\", \"Topic3\", \"Topic3\", \"Topic3\", \"Topic3\", \"Topic3\", \"Topic3\", \"Topic3\", \"Topic3\", \"Topic3\", \"Topic3\", \"Topic3\", \"Topic3\", \"Topic3\", \"Topic3\", \"Topic3\", \"Topic3\", \"Topic3\", \"Topic3\", \"Topic3\", \"Topic3\", \"Topic3\", \"Topic3\", \"Topic3\", \"Topic3\"], \"logprob\": [20.0, 19.0, 18.0, 17.0, 16.0, 15.0, 14.0, 13.0, 12.0, 11.0, 10.0, 9.0, 8.0, 7.0, 6.0, 5.0, 4.0, 3.0, 2.0, 1.0, -2.6332, -3.0153, -3.0862, -3.9952, -4.0104, -3.9506, -3.9926, -3.9243, -4.2191, -4.4867, -4.4836, -4.4799, -4.4648, -4.73, -4.7526, -4.8832, -4.9086, -5.0657, -5.3799, -5.3883, -4.8631, -3.3025, -5.0176, -3.7583, -3.8465, -4.2874, -4.3558, -4.6372, -4.6018, -4.774, -4.4379, -4.726, -5.0267, -5.1029, -4.9117, -5.1152, -5.1079, -5.1018, -5.1441, -5.1893, -5.02, -5.1104, -5.2783, -5.0184, -3.0644, -4.2924, -5.1043, -3.5549, -3.929, -4.1504, -4.3297, -3.9983, -4.3785, -4.4923, -4.4988, -4.4273, -4.4425, -4.7001, -4.7791, -4.838, -4.84, -4.9392, -5.0057, -5.0523, -4.8012, -5.1176, -5.1851, -5.1513, -4.9952, -5.0701, -4.0531, -4.0609], \"loglift\": [20.0, 19.0, 18.0, 17.0, 16.0, 15.0, 14.0, 13.0, 12.0, 11.0, 10.0, 9.0, 8.0, 7.0, 6.0, 5.0, 4.0, 3.0, 2.0, 1.0, 0.9617, 0.9581, 0.9558, 0.9381, 0.9372, 0.9372, 0.9356, 0.9271, 0.9208, 0.9188, 0.9138, 0.9103, 0.9082, 0.905, 0.8999, 0.8904, 0.8826, 0.8795, 0.8529, 0.8517, 0.7938, 0.4541, 0.4682, 0.9941, 0.9906, 0.9753, 0.9707, 0.9583, 0.9571, 0.9492, 0.9438, 0.9373, 0.9325, 0.9239, 0.9236, 0.9229, 0.9221, 0.919, 0.9156, 0.9141, 0.9118, 0.9089, 0.9084, 0.9043, 0.7771, -0.5358, 0.6882, 1.31, 1.2989, 1.2801, 1.2793, 1.277, 1.2707, 1.2688, 1.265, 1.2576, 1.2402, 1.2365, 1.2284, 1.2265, 1.2245, 1.2242, 1.2202, 1.2134, 1.207, 1.205, 1.1993, 1.1956, 1.1607, 1.1747, -0.2116, -0.3044]}, \"token.table\": {\"Topic\": [1, 1, 2, 1, 1, 1, 3, 1, 2, 3, 3, 2, 1, 2, 2, 1, 3, 1, 1, 1, 2, 3, 1, 2, 3, 1, 2, 1, 2, 3, 1, 1, 2, 2, 2, 2, 3, 3, 1, 3, 2, 3, 1, 3, 2, 3, 2, 1, 2, 3, 3, 1, 3, 3, 3, 3, 2, 3, 2, 1, 2, 1, 2, 2, 3, 2, 2, 3, 2, 3, 1, 3, 2, 3, 3, 3], \"Freq\": [0.9631556554550507, 0.9387966114687174, 0.8421431303716155, 0.975023178036816, 0.9083184248749206, 0.9653365492301206, 0.9356848648833558, 0.9244396510123285, 0.9113215598029032, 0.9676222991700917, 0.9697268364845256, 0.8786919780961698, 0.9126787335811316, 0.9990005057615836, 0.8868604684704864, 0.8082890317175554, 0.13471483861959258, 0.9285564989316657, 0.9799807913703169, 0.8985531362287106, 0.8636402529248499, 0.8057047734521002, 0.9914952279415729, 0.7713221411236333, 0.3085288564494533, 0.9364772930940106, 0.9781936010737481, 0.6042579083728555, 0.20141930279095183, 0.20141930279095183, 0.993812985483698, 0.9225757040016038, 0.9861118269210474, 0.9692177667036699, 0.9661040698655138, 0.949401379886155, 0.8941339521019149, 0.7275298492183974, 0.9429342816108307, 0.8364795254302823, 0.9814059044504544, 0.9563626933468483, 0.9638630080577544, 0.966748820555359, 0.7893377725876594, 0.21926049238546091, 0.9677509278988394, 0.93530243249528, 0.920749817580572, 0.9570492919044422, 0.9905428519262268, 0.9942238499022851, 0.9197319277657072, 0.7863234300577411, 0.896996669926802, 0.8100005884257343, 0.2218834053644034, 0.8875336214576136, 0.9490167229441383, 0.5676495068842695, 0.34058970413056167, 0.9757862879562083, 0.9151850624049764, 0.9750476329082134, 0.8994519025782426, 0.9680648972780764, 0.9771026223080749, 0.8988728934242931, 0.886694177369481, 0.8909415514618584, 0.9584679273975275, 0.8099943373024617, 0.8061041495393222, 0.9762227495832188, 0.9649302651604141, 0.9519029705027998], \"Term\": [\"amazing\", \"atmosphere\", \"authentic\", \"awesome\", \"bar\", \"beautiful\", \"beer\", \"boyfriend\", \"bread\", \"breakfast\", \"buffet\", \"chef\", \"chicken\", \"delicious\", \"eat\", \"enjoyed\", \"enjoyed\", \"excellent\", \"experience\", \"family\", \"fantastic\", \"flavorful\", \"food\", \"fresh\", \"fresh\", \"friendly\", \"fry\", \"good\", \"good\", \"good\", \"great\", \"happy\", \"hot\", \"inside\", \"lot\", \"love\", \"loved\", \"lunch\", \"menu\", \"mouth\", \"nice\", \"night\", \"perfect\", \"pizza\", \"place\", \"place\", \"potato\", \"pretty\", \"price\", \"reasonable\", \"recommend\", \"restaurant\", \"salad\", \"salmon\", \"sandwich\", \"sat\", \"sauce\", \"sauce\", \"selection\", \"server\", \"server\", \"service\", \"special\", \"spicy\", \"spot\", \"staff\", \"star\", \"steak\", \"super\", \"sushi\", \"table\", \"tasty\", \"thing\", \"time\", \"vega\", \"visit\"]}, \"R\": 20, \"lambda.step\": 0.01, \"plot.opts\": {\"xlab\": \"PC1\", \"ylab\": \"PC2\"}, \"topic.order\": [3, 1, 2]};\n",
       "\n",
       "function LDAvis_load_lib(url, callback){\n",
       "  var s = document.createElement('script');\n",
       "  s.src = url;\n",
       "  s.async = true;\n",
       "  s.onreadystatechange = s.onload = callback;\n",
       "  s.onerror = function(){console.warn(\"failed to load library \" + url);};\n",
       "  document.getElementsByTagName(\"head\")[0].appendChild(s);\n",
       "}\n",
       "\n",
       "if(typeof(LDAvis) !== \"undefined\"){\n",
       "   // already loaded: just create the visualization\n",
       "   !function(LDAvis){\n",
       "       new LDAvis(\"#\" + \"ldavis_el1916025920073596161513200290\", ldavis_el1916025920073596161513200290_data);\n",
       "   }(LDAvis);\n",
       "}else if(typeof define === \"function\" && define.amd){\n",
       "   // require.js is available: use it to load d3/LDAvis\n",
       "   require.config({paths: {d3: \"https://d3js.org/d3.v5\"}});\n",
       "   require([\"d3\"], function(d3){\n",
       "      window.d3 = d3;\n",
       "      LDAvis_load_lib(\"https://cdn.jsdelivr.net/gh/bmabey/pyLDAvis@3.3.1/pyLDAvis/js/ldavis.v3.0.0.js\", function(){\n",
       "        new LDAvis(\"#\" + \"ldavis_el1916025920073596161513200290\", ldavis_el1916025920073596161513200290_data);\n",
       "      });\n",
       "    });\n",
       "}else{\n",
       "    // require.js not available: dynamically load d3 & LDAvis\n",
       "    LDAvis_load_lib(\"https://d3js.org/d3.v5.js\", function(){\n",
       "         LDAvis_load_lib(\"https://cdn.jsdelivr.net/gh/bmabey/pyLDAvis@3.3.1/pyLDAvis/js/ldavis.v3.0.0.js\", function(){\n",
       "                 new LDAvis(\"#\" + \"ldavis_el1916025920073596161513200290\", ldavis_el1916025920073596161513200290_data);\n",
       "            })\n",
       "         });\n",
       "}\n",
       "</script>"
      ],
      "text/plain": [
       "PreparedData(topic_coordinates=              x         y  topics  cluster       Freq\n",
       "topic                                                \n",
       "2     -0.195656 -0.027499       1        1  37.899726\n",
       "0      0.126885 -0.125128       2        1  36.009576\n",
       "1      0.068771  0.152627       3        1  26.090698, topic_info=          Term       Freq      Total Category  logprob  loglift\n",
       "10       great  58.000000  58.000000  Default  20.0000  20.0000\n",
       "17     service  39.000000  39.000000  Default  19.0000  19.0000\n",
       "27        food  37.000000  37.000000  Default  18.0000  18.0000\n",
       "1        place  45.000000  45.000000  Default  17.0000  17.0000\n",
       "119       time  16.000000  16.000000  Default  16.0000  16.0000\n",
       "..         ...        ...        ...      ...      ...      ...\n",
       "366  flavorful   3.211144   3.723448   Topic3  -5.1513   1.1956\n",
       "106      sauce   3.753752   4.506872   Topic3  -4.9952   1.1607\n",
       "132      lunch   3.482625   4.123542   Topic3  -5.0701   1.1747\n",
       "1        place   9.629947  45.607852   Topic3  -4.0531  -0.2116\n",
       "34        good   9.554368  49.647675   Topic3  -4.0609  -0.3044\n",
       "\n",
       "[92 rows x 6 columns], token_table=      Topic      Freq        Term\n",
       "term                             \n",
       "26        1  0.963156     amazing\n",
       "286       1  0.938797  atmosphere\n",
       "438       2  0.842143   authentic\n",
       "588       1  0.975023     awesome\n",
       "231       1  0.908318         bar\n",
       "...     ...       ...         ...\n",
       "85        3  0.809994       tasty\n",
       "74        2  0.806104       thing\n",
       "119       3  0.976223        time\n",
       "206       3  0.964930        vega\n",
       "62        3  0.951903       visit\n",
       "\n",
       "[76 rows x 3 columns], R=20, lambda_step=0.01, plot_opts={'xlab': 'PC1', 'ylab': 'PC2'}, topic_order=[3, 1, 2])"
      ]
     },
     "execution_count": 40,
     "metadata": {},
     "output_type": "execute_result"
    }
   ],
   "source": [
    "pyLDAvis.enable_notebook()\n",
    "vis1 = pyLDAvis.gensim_models.prepare(lda_model_p, x_korpus_p, id2word_p, mds = \"mnds\", R=20)\n",
    "vis1"
   ]
  },
  {
   "cell_type": "markdown",
   "id": "18f695e4",
   "metadata": {},
   "source": [
    "**The 1st topics cluster** describe the restaurant from a general point of view, emphasizing the quality of the service and the environment in general. \n",
    "Customers appreciate the hospitality of the servers, are satisfied with the functionality of the bar and characterize the atmosphere as happy, awesome or amazing. Also, customers describe the staff as friendly and appreciate the composition of the menu.\n",
    "\n",
    "**The 2nd topics cluster** refers more to the professionalism of the staff, praise the chef and are satisfied with the prices.\n",
    "\n",
    "**The 3rd topics cluster** reveals the types of food that customers prefer the most: salad, pizza, steak, buffet, breakfast, sandwich, sushi and sauce. The customers characterize this type of food as being delicious and, moreover, they also prefer the beer."
   ]
  },
  {
   "cell_type": "markdown",
   "id": "438ee4ea",
   "metadata": {},
   "source": [
    "## Topics discussed in negative reviews"
   ]
  },
  {
   "cell_type": "code",
   "execution_count": 41,
   "id": "5bbb4361",
   "metadata": {},
   "outputs": [
    {
     "name": "stderr",
     "output_type": "stream",
     "text": [
      "WARNING:root:Unknown mds `mnds`, switch to PCoA\n"
     ]
    },
    {
     "data": {
      "text/html": [
       "\n",
       "<link rel=\"stylesheet\" type=\"text/css\" href=\"https://cdn.jsdelivr.net/gh/bmabey/pyLDAvis@3.3.1/pyLDAvis/js/ldavis.v1.0.0.css\">\n",
       "\n",
       "\n",
       "<div id=\"ldavis_el1916025898681153281361411658\"></div>\n",
       "<script type=\"text/javascript\">\n",
       "\n",
       "var ldavis_el1916025898681153281361411658_data = {\"mdsDat\": {\"x\": [0.1497863603766908, -0.002607578180849131, -0.14717878219584166], \"y\": [0.07692997182994372, -0.1580226173547742, 0.08109264552483043], \"topics\": [1, 2, 3], \"cluster\": [1, 1, 1], \"Freq\": [37.50097490349388, 34.785957140985914, 27.71306795552021]}, \"tinfo\": {\"Term\": [\"food\", \"time\", \"place\", \"pretty\", \"server\", \"minute\", \"wait\", \"flavor\", \"disappointed\", \"eat\", \"bit\", \"service\", \"worst\", \"coming\", \"experience\", \"sushi\", \"cold\", \"money\", \"table\", \"meal\", \"food\", \"time\", \"disappointed\", \"eat\", \"table\", \"overpriced\", \"terrible\", \"average\", \"meal\", \"bring\", \"awful\", \"lunch\", \"salad\", \"expect\", \"disappointment\", \"check\", \"feel\", \"return\", \"mediocre\", \"green\", \"place\", \"service\", \"good\", \"bad\", \"flavor\", \"minute\", \"talk\", \"cold\", \"impressed\", \"slow\", \"wanted\", \"burger\", \"star\", \"long\", \"rude\", \"waited\", \"avoid\", \"hot\", \"order\", \"undercooked\", \"quality\", \"ordered\", \"started\", \"felt\", \"vegetable\", \"service\", \"bland\", \"place\", \"bad\", \"restaurant\", \"pretty\", \"server\", \"worst\", \"experience\", \"coming\", \"money\", \"bit\", \"chicken\", \"sushi\", \"tasted\", \"bathroom\", \"dry\", \"meat\", \"hard\", \"sandwich\", \"sucked\", \"ambiance\", \"thing\", \"buffet\", \"disappointing\", \"wait\", \"fresh\", \"good\"], \"Freq\": [49.0, 20.0, 41.0, 9.0, 8.0, 10.0, 9.0, 9.0, 10.0, 10.0, 7.0, 26.0, 6.0, 6.0, 6.0, 6.0, 7.0, 5.0, 7.0, 8.0, 48.7075797003046, 20.045851328839873, 9.805119173595353, 10.317777960639651, 7.327759021661877, 6.839272951619464, 7.013408164144907, 5.382257660887399, 7.961049491159856, 4.880306314752035, 4.701921869767839, 5.551867301980462, 4.641097439852103, 4.197844865924553, 4.0830412974020485, 3.813572263411646, 5.18554215205356, 3.668142976829792, 4.069060836589425, 3.5653986883660913, 29.193012960786564, 14.807271187623638, 6.153346156517204, 5.225501253663041, 9.365973832323311, 10.044188843482079, 6.465734143768449, 6.652792406084829, 6.3433901570255085, 6.4042588022302285, 5.645592121751634, 5.506849944618812, 5.263524783703726, 5.330613032403795, 4.783329788148162, 4.327831906130385, 4.399443327176715, 4.077697834771804, 3.863254510777651, 3.826179053097907, 4.081562464654152, 4.3670008525914925, 3.5592416830758005, 3.58726789783213, 4.36032912507691, 11.8166901808325, 5.268270475777402, 12.128530808149396, 6.325121641632987, 5.494930487034838, 8.98951188508998, 7.91642907817155, 6.492933047259521, 6.122967161992558, 6.19772259882992, 5.073065138946068, 7.19431825999143, 4.270530423398566, 5.429662231354041, 4.085976688027666, 3.8079057965607075, 4.549515400625582, 4.248338637731797, 3.8985316401347774, 3.5725611668539035, 3.529395692401855, 3.5279256639412524, 3.6634966656377372, 3.451580903139941, 3.1720138151664843, 8.080927571858211, 3.846908242770138, 6.277537191207086], \"Total\": [49.0, 20.0, 41.0, 9.0, 8.0, 10.0, 9.0, 9.0, 10.0, 10.0, 7.0, 26.0, 6.0, 6.0, 6.0, 6.0, 7.0, 5.0, 7.0, 8.0, 49.17908135088872, 20.55109398799969, 10.254100225970378, 10.964852596981954, 7.7918275967462645, 7.282060985216792, 7.478813057067093, 5.823962479914351, 8.682424167927229, 5.33702041232762, 5.142167082788014, 6.091703756120895, 5.128481755534624, 4.664609966752394, 4.540354946103843, 4.253759199923864, 5.793664120592086, 4.1099958133190375, 4.562696416341211, 4.021827227072423, 41.543808833242025, 26.838610008144123, 12.6663110911031, 11.770130742280978, 9.854602549634688, 10.57840912103531, 6.905489864032766, 7.105396313173492, 6.818057405325557, 6.887658002871928, 6.084439359530217, 5.959241018838333, 5.704463414215426, 5.783568925757545, 5.244987273815578, 4.781634159071803, 4.873324638159871, 4.544546507043515, 4.310747824748098, 4.276412807528973, 4.5630484931514905, 4.884632090916523, 4.006025035132857, 4.040124533331753, 5.141629608522247, 26.838610008144123, 7.9745563375070425, 41.543808833242025, 11.770130742280978, 9.210302900657176, 9.498449282394288, 8.443244602659144, 6.966395530179624, 6.5905888387821285, 6.687619787869526, 5.5572254495823294, 7.962309509818866, 4.741095264490848, 6.034814124257525, 4.548265681463297, 4.277756065987893, 5.1164816526297345, 4.7842224231605215, 4.3970145589315255, 4.03604380681679, 3.989500586832153, 3.9913918726817177, 4.149196381783144, 3.9224890053050645, 3.6347830617399457, 9.307414070821023, 4.5509455251835025, 12.6663110911031], \"Category\": [\"Default\", \"Default\", \"Default\", \"Default\", \"Default\", \"Default\", \"Default\", \"Default\", \"Default\", \"Default\", \"Default\", \"Default\", \"Default\", \"Default\", \"Default\", \"Default\", \"Default\", \"Default\", \"Default\", \"Default\", \"Topic1\", \"Topic1\", \"Topic1\", \"Topic1\", \"Topic1\", \"Topic1\", \"Topic1\", \"Topic1\", \"Topic1\", \"Topic1\", \"Topic1\", \"Topic1\", \"Topic1\", \"Topic1\", \"Topic1\", \"Topic1\", \"Topic1\", \"Topic1\", \"Topic1\", \"Topic1\", \"Topic1\", \"Topic1\", \"Topic1\", \"Topic1\", \"Topic2\", \"Topic2\", \"Topic2\", \"Topic2\", \"Topic2\", \"Topic2\", \"Topic2\", \"Topic2\", \"Topic2\", \"Topic2\", \"Topic2\", \"Topic2\", \"Topic2\", \"Topic2\", \"Topic2\", \"Topic2\", \"Topic2\", \"Topic2\", \"Topic2\", \"Topic2\", \"Topic2\", \"Topic2\", \"Topic2\", \"Topic2\", \"Topic2\", \"Topic2\", \"Topic3\", \"Topic3\", \"Topic3\", \"Topic3\", \"Topic3\", \"Topic3\", \"Topic3\", \"Topic3\", \"Topic3\", \"Topic3\", \"Topic3\", \"Topic3\", \"Topic3\", \"Topic3\", \"Topic3\", \"Topic3\", \"Topic3\", \"Topic3\", \"Topic3\", \"Topic3\", \"Topic3\", \"Topic3\", \"Topic3\"], \"logprob\": [20.0, 19.0, 18.0, 17.0, 16.0, 15.0, 14.0, 13.0, 12.0, 11.0, 10.0, 9.0, 8.0, 7.0, 6.0, 5.0, 4.0, 3.0, 2.0, 1.0, -2.7282, -3.6161, -4.3312, -4.2802, -4.6224, -4.6914, -4.6663, -4.931, -4.5395, -5.0289, -5.0661, -4.8999, -5.0791, -5.1795, -5.2072, -5.2755, -4.9682, -5.3144, -5.2107, -5.3428, -3.2402, -3.919, -4.7971, -4.9605, -4.3018, -4.2319, -4.6724, -4.6439, -4.6915, -4.682, -4.8081, -4.8329, -4.8781, -4.8655, -4.9738, -5.0739, -5.0574, -5.1334, -5.1874, -5.1971, -5.1324, -5.0649, -5.2694, -5.2615, -5.0664, -4.0694, -4.8772, -4.0434, -4.6944, -4.8351, -4.1156, -4.2427, -4.4409, -4.4996, -4.4874, -4.6877, -4.3383, -4.8599, -4.6197, -4.9041, -4.9745, -4.7966, -4.8651, -4.951, -5.0383, -5.0505, -5.0509, -5.0132, -5.0728, -5.1573, -4.2221, -4.9643, -4.4746], \"loglift\": [20.0, 19.0, 18.0, 17.0, 16.0, 15.0, 14.0, 13.0, 12.0, 11.0, 10.0, 9.0, 8.0, 7.0, 6.0, 5.0, 4.0, 3.0, 2.0, 1.0, 0.9712, 0.9559, 0.936, 0.92, 0.9194, 0.9181, 0.9166, 0.9019, 0.8941, 0.8913, 0.8913, 0.888, 0.8809, 0.8754, 0.8746, 0.8716, 0.8699, 0.8671, 0.8663, 0.8603, 0.628, 0.3861, 0.2589, 0.1688, 1.0051, 1.0041, 0.9902, 0.9901, 0.9838, 0.9832, 0.9811, 0.977, 0.9755, 0.9744, 0.9638, 0.9562, 0.9537, 0.9476, 0.9464, 0.9447, 0.9444, 0.9439, 0.9377, 0.9371, 0.8911, 0.2356, 0.6414, -0.1752, 0.4349, 0.5395, 1.2282, 1.2188, 1.2129, 1.2097, 1.2072, 1.1921, 1.1818, 1.1787, 1.1776, 1.1761, 1.1669, 1.1658, 1.1645, 1.1629, 1.1613, 1.1607, 1.1598, 1.1588, 1.1554, 1.1471, 1.142, 1.1152, 0.5813]}, \"token.table\": {\"Topic\": [3, 1, 2, 1, 1, 2, 3, 2, 3, 1, 2, 3, 1, 3, 2, 1, 3, 2, 3, 1, 3, 1, 3, 1, 1, 3, 1, 2, 2, 1, 3, 1, 3, 1, 3, 2, 2, 2, 1, 1, 3, 1, 2, 3, 2, 2, 1, 1, 2, 3, 2, 1, 2, 1, 2, 1, 3, 3, 1, 2, 2, 2, 2, 3, 3, 1, 2, 3, 1, 3, 1, 2, 2, 3, 1, 3, 2, 2, 3], \"Freq\": [1.0021566730586386, 0.8585220143920865, 0.820794898143779, 0.9723526908987692, 0.4248041172591963, 0.5097649407110356, 0.9350696809955319, 0.12559170159949598, 0.8791419111964718, 0.125398825674685, 0.6269941283734249, 0.25079765134937, 0.9368523283986024, 0.7648204994182464, 1.0068396262263632, 0.9403447191067126, 0.843686907107437, 0.9851667227937608, 0.8971801912069255, 0.9752196467392797, 0.8253587488007937, 0.8809883913222399, 0.9772340329668013, 0.912004964184605, 0.8575207849124606, 0.9103890633706618, 0.863011713473135, 0.9900684909584548, 0.913278841502708, 0.9963585869038303, 0.8789382289603901, 0.4736975080467145, 0.4736975080467145, 0.9945728083679239, 0.9097081545647645, 0.8801758313619342, 0.8800160578456592, 0.864518096729536, 0.984946123483311, 0.9214016552602791, 0.836081529285912, 0.8766745877885006, 0.9453217289653568, 0.8997295584572317, 0.9279132444342747, 0.81889483702128, 0.9612663247685785, 0.6980582862877784, 0.28885170467080484, 0.9475230884984371, 0.8766069451165052, 0.3257221865945303, 0.5428703109908838, 0.9732370011272079, 0.9532911595346242, 0.9749474090658571, 0.991069520416029, 0.9475030484703064, 0.558896306308273, 0.4471170450466184, 0.8711233916518789, 0.8765066294474051, 0.9984960066200242, 1.002631761279219, 0.8285259325390009, 0.8983771667282631, 0.8688739130949986, 0.879456100443344, 0.9359773999679483, 0.9640421016372752, 0.9731842018570162, 0.9353633945155327, 0.777963467724319, 0.19449086693107975, 0.10744122829293962, 0.8595298263435169, 0.8365340941885165, 0.9861220805170887, 0.8612775392966087], \"Term\": [\"ambiance\", \"average\", \"avoid\", \"awful\", \"bad\", \"bad\", \"bathroom\", \"bit\", \"bit\", \"bland\", \"bland\", \"bland\", \"bring\", \"buffet\", \"burger\", \"check\", \"chicken\", \"cold\", \"coming\", \"disappointed\", \"disappointing\", \"disappointment\", \"dry\", \"eat\", \"expect\", \"experience\", \"feel\", \"felt\", \"flavor\", \"food\", \"fresh\", \"good\", \"good\", \"green\", \"hard\", \"hot\", \"impressed\", \"long\", \"lunch\", \"meal\", \"meat\", \"mediocre\", \"minute\", \"money\", \"order\", \"ordered\", \"overpriced\", \"place\", \"place\", \"pretty\", \"quality\", \"restaurant\", \"restaurant\", \"return\", \"rude\", \"salad\", \"sandwich\", \"server\", \"service\", \"service\", \"slow\", \"star\", \"started\", \"sucked\", \"sushi\", \"table\", \"talk\", \"tasted\", \"terrible\", \"thing\", \"time\", \"undercooked\", \"vegetable\", \"vegetable\", \"wait\", \"wait\", \"waited\", \"wanted\", \"worst\"]}, \"R\": 20, \"lambda.step\": 0.01, \"plot.opts\": {\"xlab\": \"PC1\", \"ylab\": \"PC2\"}, \"topic.order\": [3, 2, 1]};\n",
       "\n",
       "function LDAvis_load_lib(url, callback){\n",
       "  var s = document.createElement('script');\n",
       "  s.src = url;\n",
       "  s.async = true;\n",
       "  s.onreadystatechange = s.onload = callback;\n",
       "  s.onerror = function(){console.warn(\"failed to load library \" + url);};\n",
       "  document.getElementsByTagName(\"head\")[0].appendChild(s);\n",
       "}\n",
       "\n",
       "if(typeof(LDAvis) !== \"undefined\"){\n",
       "   // already loaded: just create the visualization\n",
       "   !function(LDAvis){\n",
       "       new LDAvis(\"#\" + \"ldavis_el1916025898681153281361411658\", ldavis_el1916025898681153281361411658_data);\n",
       "   }(LDAvis);\n",
       "}else if(typeof define === \"function\" && define.amd){\n",
       "   // require.js is available: use it to load d3/LDAvis\n",
       "   require.config({paths: {d3: \"https://d3js.org/d3.v5\"}});\n",
       "   require([\"d3\"], function(d3){\n",
       "      window.d3 = d3;\n",
       "      LDAvis_load_lib(\"https://cdn.jsdelivr.net/gh/bmabey/pyLDAvis@3.3.1/pyLDAvis/js/ldavis.v3.0.0.js\", function(){\n",
       "        new LDAvis(\"#\" + \"ldavis_el1916025898681153281361411658\", ldavis_el1916025898681153281361411658_data);\n",
       "      });\n",
       "    });\n",
       "}else{\n",
       "    // require.js not available: dynamically load d3 & LDAvis\n",
       "    LDAvis_load_lib(\"https://d3js.org/d3.v5.js\", function(){\n",
       "         LDAvis_load_lib(\"https://cdn.jsdelivr.net/gh/bmabey/pyLDAvis@3.3.1/pyLDAvis/js/ldavis.v3.0.0.js\", function(){\n",
       "                 new LDAvis(\"#\" + \"ldavis_el1916025898681153281361411658\", ldavis_el1916025898681153281361411658_data);\n",
       "            })\n",
       "         });\n",
       "}\n",
       "</script>"
      ],
      "text/plain": [
       "PreparedData(topic_coordinates=              x         y  topics  cluster       Freq\n",
       "topic                                                \n",
       "2      0.149786  0.076930       1        1  37.500975\n",
       "1     -0.002608 -0.158023       2        1  34.785957\n",
       "0     -0.147179  0.081093       3        1  27.713068, topic_info=              Term       Freq      Total Category  logprob  loglift\n",
       "39            food  49.000000  49.000000  Default  20.0000  20.0000\n",
       "14            time  20.000000  20.000000  Default  19.0000  19.0000\n",
       "31           place  41.000000  41.000000  Default  18.0000  18.0000\n",
       "24          pretty   9.000000   9.000000  Default  17.0000  17.0000\n",
       "233         server   8.000000   8.000000  Default  16.0000  16.0000\n",
       "..             ...        ...        ...      ...      ...      ...\n",
       "466         buffet   3.451581   3.922489   Topic3  -5.0728   1.1554\n",
       "163  disappointing   3.172014   3.634783   Topic3  -5.1573   1.1471\n",
       "140           wait   8.080928   9.307414   Topic3  -4.2221   1.1420\n",
       "8            fresh   3.846908   4.550946   Topic3  -4.9643   1.1152\n",
       "1             good   6.277537  12.666311   Topic3  -4.4746   0.5813\n",
       "\n",
       "[93 rows x 6 columns], token_table=      Topic      Freq      Term\n",
       "term                           \n",
       "890       3  1.002157  ambiance\n",
       "652       1  0.858522   average\n",
       "252       2  0.820795     avoid\n",
       "752       1  0.972353     awful\n",
       "82        1  0.424804       bad\n",
       "...     ...       ...       ...\n",
       "140       1  0.107441      wait\n",
       "140       3  0.859530      wait\n",
       "241       2  0.836534    waited\n",
       "618       2  0.986122    wanted\n",
       "51        3  0.861278     worst\n",
       "\n",
       "[79 rows x 3 columns], R=20, lambda_step=0.01, plot_opts={'xlab': 'PC1', 'ylab': 'PC2'}, topic_order=[3, 2, 1])"
      ]
     },
     "execution_count": 41,
     "metadata": {},
     "output_type": "execute_result"
    }
   ],
   "source": [
    "pyLDAvis.enable_notebook()\n",
    "vis2 = pyLDAvis.gensim_models.prepare(lda_model_n, x_korpus_n, id2word_n, mds = \"mnds\", R=20)\n",
    "vis2"
   ]
  },
  {
   "cell_type": "markdown",
   "id": "6f927b34",
   "metadata": {},
   "source": [
    "Regarding the **negative reviews**, we can observe 3 clusters that describe the business from a negative point of view, focusing on **place, service and quality of the food**.\n",
    "\n",
    "Customers describe the overall **feeling** as disappointing, bad or even awful. From what was observed, unsatisfied customers put the most emphasis on the **waiting time**, mentioning this aspect most of the time. Another important aspect revealed by them is the **quality of the staff**, characterizing them as rude. Some customers complained about the cold and others were not satisfied with the toilets.\n",
    "\n",
    "Customers are not satisfied with how the following **types of food** are cooked: lunch, burgers, vegetables and chicken. Some do not appreciate sushi either.\n",
    "\n",
    "They also consider the **prices** to be too high and urges other customers to avoid the restaurant."
   ]
  },
  {
   "cell_type": "markdown",
   "id": "870a9412",
   "metadata": {},
   "source": [
    "## Conclusion"
   ]
  },
  {
   "cell_type": "markdown",
   "id": "242e79e5",
   "metadata": {},
   "source": [
    "**The following important aspects emerge from the presented analysis:**\n",
    "\n",
    "**Things to maintain:**\n",
    "* the bar\n",
    "* food like: pizza, salad, steak, breakfast, beer\n",
    "\n",
    "**Things to improve:**\n",
    "* waiting time\n",
    "* personnel (in some cases)\n",
    "* the cold temperature\n",
    "* bathrooms\n",
    "* prices\n",
    "* food like: burgers, vegetables and chicken"
   ]
  }
 ],
 "metadata": {
  "kernelspec": {
   "display_name": "Python 3 (ipykernel)",
   "language": "python",
   "name": "python3"
  },
  "language_info": {
   "codemirror_mode": {
    "name": "ipython",
    "version": 3
   },
   "file_extension": ".py",
   "mimetype": "text/x-python",
   "name": "python",
   "nbconvert_exporter": "python",
   "pygments_lexer": "ipython3",
   "version": "3.9.12"
  }
 },
 "nbformat": 4,
 "nbformat_minor": 5
}
